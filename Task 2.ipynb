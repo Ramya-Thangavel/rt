{
 "cells": [
  {
   "cell_type": "code",
   "execution_count": 7,
   "metadata": {},
   "outputs": [
    {
     "name": "stdout",
     "output_type": "stream",
     "text": [
      "Enter new nos: 1,2,3,4,5,6,7,8\n",
      "1,2,3,4,5,6,7,8\n"
     ]
    }
   ],
   "source": [
    "# Program to accept comma-separated numbers from console\n",
    "\n",
    "dat = input(\"Enter new nos: \")\n",
    "print (dat)"
   ]
  },
  {
   "cell_type": "code",
   "execution_count": 28,
   "metadata": {},
   "outputs": [
    {
     "name": "stdout",
     "output_type": "stream",
     "text": [
      "enter the no of rows6\n",
      "*\n",
      "\n",
      "**\n",
      "\n",
      "***\n",
      "\n",
      "****\n",
      "\n",
      "*****\n",
      "\n",
      "******\n",
      "\n",
      "*****\n",
      "\n",
      "****\n",
      "\n",
      "***\n",
      "\n",
      "**\n",
      "\n",
      "*\n",
      "\n"
     ]
    }
   ],
   "source": [
    "#Create a pattern using nested for loop in Python. \n",
    "\n",
    "d = int(input(\"enter the no of rows\"))\n",
    "for i in range(1, d+1):\n",
    "    for j in range(1,i+1):\n",
    "        print (\"*\",end = '')\n",
    "        continue\n",
    "    print(\"\\n\")\n",
    "    \n",
    "for k in range(d,1,-1):\n",
    "    #print(\"K:\",k)\n",
    "    for l in range(k,1,-1):\n",
    "        #print(\"l:\",l)\n",
    "        print (\"*\", end = '')\n",
    "        continue\n",
    "    print(\"\\n\")\n"
   ]
  },
  {
   "cell_type": "code",
   "execution_count": 36,
   "metadata": {},
   "outputs": [
    {
     "name": "stdout",
     "output_type": "stream",
     "text": [
      "Enter the input string: AcadGild\n",
      "dliGdacA"
     ]
    }
   ],
   "source": [
    "#program to reverse a word after accepting the input from the user\n",
    "\n",
    "str1 = input(\"Enter the input string: \")\n",
    "d = len(str1)\n",
    "\n",
    "for i in range(0,d):\n",
    "    print (str1[d-1],end = '')\n",
    "    d = d-1\n",
    "\n",
    "     \n"
   ]
  },
  {
   "cell_type": "code",
   "execution_count": 35,
   "metadata": {},
   "outputs": [
    {
     "name": "stdout",
     "output_type": "stream",
     "text": [
      "WE, THE PEOPLE OF INDIA,\n",
      "\t having solemnly resolved to constitute India into a SOVEREIGN,\n",
      "\t \t SOCIALIST, SECULAR, DEMOCRATIC REPUBLIC and to secure to all its citizens \n"
     ]
    }
   ],
   "source": [
    "inpt = 'WE, THE PEOPLE OF INDIA, having solemnly resolved to constitute India into a SOVEREIGN, SOCIALIST, SECULAR, DEMOCRATIC REPUBLIC and to secure to all its citizens '\n",
    "c = 0\n",
    "l = 0\n",
    "d = len(inpt)\n",
    "m = []\n",
    "for i  in inpt:\n",
    "    l = l + 1\n",
    "    if (i == ','):\n",
    "        c = c + 1\n",
    "        if (c == 2):\n",
    "            print (inpt[0:l])\n",
    "            s = l\n",
    "        elif (c==3):\n",
    "            print (\"\\t\",inpt[s+1:l]) \n",
    "            t = l\n",
    "        elif (c == 5):\n",
    "            print (\"\\t\",\"\\t\",inpt[t+1:d])\n",
    "  "
   ]
  },
  {
   "cell_type": "code",
   "execution_count": null,
   "metadata": {},
   "outputs": [],
   "source": [
    "            \n",
    "        \n",
    "                "
   ]
  },
  {
   "cell_type": "code",
   "execution_count": null,
   "metadata": {},
   "outputs": [],
   "source": []
  }
 ],
 "metadata": {
  "kernelspec": {
   "display_name": "Python 3",
   "language": "python",
   "name": "python3"
  },
  "language_info": {
   "codemirror_mode": {
    "name": "ipython",
    "version": 3
   },
   "file_extension": ".py",
   "mimetype": "text/x-python",
   "name": "python",
   "nbconvert_exporter": "python",
   "pygments_lexer": "ipython3",
   "version": "3.7.6"
  }
 },
 "nbformat": 4,
 "nbformat_minor": 4
}
